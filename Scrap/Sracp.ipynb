{
 "cells": [
  {
   "cell_type": "code",
   "execution_count": 4,
   "id": "d8c4523f-5ddb-4c14-af0b-826a11382a86",
   "metadata": {},
   "outputs": [
    {
     "name": "stdout",
     "output_type": "stream",
     "text": [
      "[]\n"
     ]
    }
   ],
   "source": [
    "import requests\n",
    "from bs4 import BeautifulSoup\n",
    "from requests.api import request\n",
    "\n",
    "url = 'https://www.linio.com.co/search?scroll=&q=televisores+smart+tv'\n",
    "req = requests.get(url)\n",
    "\n",
    "body = req.text\n",
    "soup = BeautifulSoup(req.text, \"html.parser\")\n",
    "\n",
    "all_body = soup.find_all('span', attrs = {'class':'title-section'})\n",
    "\n",
    "print(all_body)"
   ]
  },
  {
   "cell_type": "code",
   "execution_count": 5,
   "id": "83435604-3570-4cff-9055-5823c6b1af77",
   "metadata": {},
   "outputs": [],
   "source": [
    "i=0\n",
    "tit=list()\n",
    "for tag in all_body:    #this tag contains all titles\n",
    "    tit.append(tag.get_text())\n",
    "    print(tit[i])\n",
    "    i+=1\n"
   ]
  },
  {
   "cell_type": "code",
   "execution_count": 10,
   "id": "6e6ac4b6-db16-45f5-bbb1-0e7ec8d15802",
   "metadata": {},
   "outputs": [
    {
     "name": "stdout",
     "output_type": "stream",
     "text": [
      "<Response [200]>\n",
      "[]\n"
     ]
    }
   ],
   "source": [
    "import requests\n",
    "from bs4 import BeautifulSoup\n",
    "from requests.api import request\n",
    "url = 'https://shopee.com.co/Hogar-y-Vida-cat.11069103'\n",
    "req = requests.get(url)\n",
    "\n",
    "print(req)\n",
    "\n",
    "body = req.text\n",
    "soup = BeautifulSoup(req.text, \"html.parser\")\n",
    "# all_prices = soup.find_all('div', attrs = {'class':'lowest-price'}) #this tag contains all prices\n",
    "all_prices = soup.find_all('div', attrs = {'class':'ie3A+n bM+7UW Cve6sh'})\n",
    "\n",
    "i=0\n",
    "pri=list()\n",
    "pri1=list()\n",
    "for tag in all_prices :\n",
    "    pri1 = (tag.get_text())\n",
    "    pri1 = pri1.rstrip()\n",
    "    pri.append(int(pri1[8::]))\n",
    "\n",
    "print(pri) "
   ]
  },
  {
   "cell_type": "code",
   "execution_count": 6,
   "id": "05d72ab2-7da1-4594-87e8-aeca618d54e1",
   "metadata": {},
   "outputs": [],
   "source": [
    "i=0\n",
    "for elements in range(0, len(all_prices)):\n",
    "    print(tit[i],\" - \",pri[i])\n",
    "    i+=1\n",
    "\n"
   ]
  }
 ],
 "metadata": {
  "kernelspec": {
   "display_name": "Python 3 (ipykernel)",
   "language": "python",
   "name": "python3"
  },
  "language_info": {
   "codemirror_mode": {
    "name": "ipython",
    "version": 3
   },
   "file_extension": ".py",
   "mimetype": "text/x-python",
   "name": "python",
   "nbconvert_exporter": "python",
   "pygments_lexer": "ipython3",
   "version": "3.9.5"
  }
 },
 "nbformat": 4,
 "nbformat_minor": 5
}
